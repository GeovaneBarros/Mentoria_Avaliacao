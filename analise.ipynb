{
 "cells": [
  {
   "cell_type": "code",
   "execution_count": 1,
   "metadata": {},
   "outputs": [],
   "source": [
    "import pandas as pd\n",
    "import numpy as np\n",
    "import seaborn as sb\n",
    "import matplotlib.pyplot as plt\n",
    "plt.rcParams['axes.facecolor'] = 'white'"
   ]
  },
  {
   "cell_type": "markdown",
   "metadata": {},
   "source": [
    "### Leitura do dataframe"
   ]
  },
  {
   "cell_type": "code",
   "execution_count": 2,
   "metadata": {},
   "outputs": [],
   "source": [
    "from config import DF_TRAIN"
   ]
  },
  {
   "cell_type": "code",
   "execution_count": 3,
   "metadata": {},
   "outputs": [],
   "source": [
    "df = pd.read_csv(DF_TRAIN)"
   ]
  },
  {
   "cell_type": "markdown",
   "metadata": {},
   "source": [
    "### Analisando o dataframe"
   ]
  },
  {
   "cell_type": "code",
   "execution_count": 4,
   "metadata": {},
   "outputs": [
    {
     "data": {
      "text/html": [
       "<div>\n",
       "<style scoped>\n",
       "    .dataframe tbody tr th:only-of-type {\n",
       "        vertical-align: middle;\n",
       "    }\n",
       "\n",
       "    .dataframe tbody tr th {\n",
       "        vertical-align: top;\n",
       "    }\n",
       "\n",
       "    .dataframe thead th {\n",
       "        text-align: right;\n",
       "    }\n",
       "</style>\n",
       "<table border=\"1\" class=\"dataframe\">\n",
       "  <thead>\n",
       "    <tr style=\"text-align: right;\">\n",
       "      <th></th>\n",
       "      <th>id</th>\n",
       "      <th>comment_text</th>\n",
       "      <th>Toxic</th>\n",
       "    </tr>\n",
       "  </thead>\n",
       "  <tbody>\n",
       "    <tr>\n",
       "      <th>0</th>\n",
       "      <td>0028d62e8a5629aa</td>\n",
       "      <td>All of my edits are good.  Cunts like you who ...</td>\n",
       "      <td>Toxic</td>\n",
       "    </tr>\n",
       "    <tr>\n",
       "      <th>1</th>\n",
       "      <td>006e87872c8b370c</td>\n",
       "      <td>you are a stupid fuck \\n\\nand your mother's cu...</td>\n",
       "      <td>Toxic</td>\n",
       "    </tr>\n",
       "    <tr>\n",
       "      <th>2</th>\n",
       "      <td>00b77cb600c897b4</td>\n",
       "      <td>\"\\n\\nAnd you are? Let me know when you've craw...</td>\n",
       "      <td>Toxic</td>\n",
       "    </tr>\n",
       "    <tr>\n",
       "      <th>3</th>\n",
       "      <td>00c0b8ed05ed7833</td>\n",
       "      <td>Fuck off\\n\\nYou are NOT an administrator. You ...</td>\n",
       "      <td>Toxic</td>\n",
       "    </tr>\n",
       "    <tr>\n",
       "      <th>4</th>\n",
       "      <td>00d7a73eb033ee5e</td>\n",
       "      <td>Have you seen the reference to their claim, yo...</td>\n",
       "      <td>Toxic</td>\n",
       "    </tr>\n",
       "    <tr>\n",
       "      <th>5</th>\n",
       "      <td>011d0c0a6c8e5765</td>\n",
       "      <td>I NEVER FUCKING MADE THIS MOTHER FUCKING ARTIC...</td>\n",
       "      <td>Toxic</td>\n",
       "    </tr>\n",
       "    <tr>\n",
       "      <th>6</th>\n",
       "      <td>0122aba9f97885cd</td>\n",
       "      <td>There are many broken nostrils in this pancreas</td>\n",
       "      <td>Non-Toxic</td>\n",
       "    </tr>\n",
       "    <tr>\n",
       "      <th>7</th>\n",
       "      <td>016aa1af4fa90e8b</td>\n",
       "      <td>\"\\n\\nElvis... Crying in the Chapel  Feudalist  \"</td>\n",
       "      <td>Non-Toxic</td>\n",
       "    </tr>\n",
       "    <tr>\n",
       "      <th>8</th>\n",
       "      <td>019ab9a91e7fcdbe</td>\n",
       "      <td>Are you fucker mother fucker have nothing to d...</td>\n",
       "      <td>Toxic</td>\n",
       "    </tr>\n",
       "    <tr>\n",
       "      <th>9</th>\n",
       "      <td>01ce75675a501e50</td>\n",
       "      <td>\"\\\\nYou wasted your own time! Take this advice...</td>\n",
       "      <td>Toxic</td>\n",
       "    </tr>\n",
       "  </tbody>\n",
       "</table>\n",
       "</div>"
      ],
      "text/plain": [
       "                 id                                       comment_text  \\\n",
       "0  0028d62e8a5629aa  All of my edits are good.  Cunts like you who ...   \n",
       "1  006e87872c8b370c  you are a stupid fuck \\n\\nand your mother's cu...   \n",
       "2  00b77cb600c897b4  \"\\n\\nAnd you are? Let me know when you've craw...   \n",
       "3  00c0b8ed05ed7833  Fuck off\\n\\nYou are NOT an administrator. You ...   \n",
       "4  00d7a73eb033ee5e  Have you seen the reference to their claim, yo...   \n",
       "5  011d0c0a6c8e5765  I NEVER FUCKING MADE THIS MOTHER FUCKING ARTIC...   \n",
       "6  0122aba9f97885cd    There are many broken nostrils in this pancreas   \n",
       "7  016aa1af4fa90e8b   \"\\n\\nElvis... Crying in the Chapel  Feudalist  \"   \n",
       "8  019ab9a91e7fcdbe  Are you fucker mother fucker have nothing to d...   \n",
       "9  01ce75675a501e50  \"\\\\nYou wasted your own time! Take this advice...   \n",
       "\n",
       "       Toxic  \n",
       "0      Toxic  \n",
       "1      Toxic  \n",
       "2      Toxic  \n",
       "3      Toxic  \n",
       "4      Toxic  \n",
       "5      Toxic  \n",
       "6  Non-Toxic  \n",
       "7  Non-Toxic  \n",
       "8      Toxic  \n",
       "9      Toxic  "
      ]
     },
     "execution_count": 4,
     "metadata": {},
     "output_type": "execute_result"
    }
   ],
   "source": [
    "df.head(10)"
   ]
  },
  {
   "cell_type": "code",
   "execution_count": 5,
   "metadata": {},
   "outputs": [
    {
     "data": {
      "text/html": [
       "<div>\n",
       "<style scoped>\n",
       "    .dataframe tbody tr th:only-of-type {\n",
       "        vertical-align: middle;\n",
       "    }\n",
       "\n",
       "    .dataframe tbody tr th {\n",
       "        vertical-align: top;\n",
       "    }\n",
       "\n",
       "    .dataframe thead th {\n",
       "        text-align: right;\n",
       "    }\n",
       "</style>\n",
       "<table border=\"1\" class=\"dataframe\">\n",
       "  <thead>\n",
       "    <tr style=\"text-align: right;\">\n",
       "      <th></th>\n",
       "      <th>id</th>\n",
       "      <th>comment_text</th>\n",
       "      <th>Toxic</th>\n",
       "    </tr>\n",
       "  </thead>\n",
       "  <tbody>\n",
       "    <tr>\n",
       "      <th>count</th>\n",
       "      <td>2000</td>\n",
       "      <td>2000</td>\n",
       "      <td>2000</td>\n",
       "    </tr>\n",
       "    <tr>\n",
       "      <th>unique</th>\n",
       "      <td>2000</td>\n",
       "      <td>2000</td>\n",
       "      <td>2</td>\n",
       "    </tr>\n",
       "    <tr>\n",
       "      <th>top</th>\n",
       "      <td>0028d62e8a5629aa</td>\n",
       "      <td>All of my edits are good.  Cunts like you who ...</td>\n",
       "      <td>Toxic</td>\n",
       "    </tr>\n",
       "    <tr>\n",
       "      <th>freq</th>\n",
       "      <td>1</td>\n",
       "      <td>1</td>\n",
       "      <td>1500</td>\n",
       "    </tr>\n",
       "  </tbody>\n",
       "</table>\n",
       "</div>"
      ],
      "text/plain": [
       "                      id                                       comment_text  \\\n",
       "count               2000                                               2000   \n",
       "unique              2000                                               2000   \n",
       "top     0028d62e8a5629aa  All of my edits are good.  Cunts like you who ...   \n",
       "freq                   1                                                  1   \n",
       "\n",
       "        Toxic  \n",
       "count    2000  \n",
       "unique      2  \n",
       "top     Toxic  \n",
       "freq     1500  "
      ]
     },
     "execution_count": 5,
     "metadata": {},
     "output_type": "execute_result"
    }
   ],
   "source": [
    "df.describe()"
   ]
  },
  {
   "cell_type": "markdown",
   "metadata": {},
   "source": [
    "### Preprocessamento"
   ]
  },
  {
   "cell_type": "code",
   "execution_count": 6,
   "metadata": {},
   "outputs": [
    {
     "name": "stderr",
     "output_type": "stream",
     "text": [
      "[nltk_data] Downloading package words to /home/geovane/nltk_data...\n",
      "[nltk_data]   Package words is already up-to-date!\n",
      "[nltk_data] Downloading package stopwords to\n",
      "[nltk_data]     /home/geovane/nltk_data...\n",
      "[nltk_data]   Package stopwords is already up-to-date!\n",
      "[nltk_data] Downloading package punkt to /home/geovane/nltk_data...\n",
      "[nltk_data]   Package punkt is already up-to-date!\n",
      "[nltk_data] Downloading package wordnet to /home/geovane/nltk_data...\n",
      "[nltk_data]   Package wordnet is already up-to-date!\n"
     ]
    }
   ],
   "source": [
    "from nlp_preprocessing import basic_preprocessing, lemmatizer, change_words, y_encoder\n",
    "from sklearn.model_selection import train_test_split"
   ]
  },
  {
   "cell_type": "code",
   "execution_count": 7,
   "metadata": {},
   "outputs": [],
   "source": [
    "X_train, X_test, y_train, y_test = train_test_split(df['comment_text'], df['Toxic'], test_size=0.33, shuffle=True)"
   ]
  },
  {
   "cell_type": "code",
   "execution_count": 8,
   "metadata": {},
   "outputs": [],
   "source": [
    "dict_change = {\n",
    "    'Toxic':1,\n",
    "    'Non-Toxic':0\n",
    "}"
   ]
  },
  {
   "cell_type": "code",
   "execution_count": 9,
   "metadata": {},
   "outputs": [],
   "source": [
    "y_train, y_test = y_encoder(y_train, dict_change), y_encoder(y_test, dict_change)"
   ]
  },
  {
   "cell_type": "code",
   "execution_count": 10,
   "metadata": {},
   "outputs": [
    {
     "name": "stdout",
     "output_type": "stream",
     "text": [
      "Comment\n",
      "------------------------------\n",
      "\"\\\n",
      "You wasted your own time! Take this advice with you: Pull your head out of your ass! Be real and don't spend the rest of your life sucking ass. Have a nice life! Goodbye!  (mailbox) \"\n",
      "------------------------------\n",
      "1\n"
     ]
    }
   ],
   "source": [
    "example = 9\n",
    "print('Comment')\n",
    "print('------------------------------')\n",
    "print(X_train[example])\n",
    "print('------------------------------')\n",
    "print(y_train[example])"
   ]
  },
  {
   "cell_type": "code",
   "execution_count": 11,
   "metadata": {},
   "outputs": [],
   "source": [
    "dict_change = {\n",
    "    \"'re\" : ' are ',\n",
    "    \"'is\": ' is ',\n",
    "    \"'ve\" : ' have ',\n",
    "    \"n't\":' not ',\n",
    "    \"'m\": ' am ',\n",
    "    \"'ll\": ' will '\n",
    "}\n"
   ]
  },
  {
   "cell_type": "code",
   "execution_count": 12,
   "metadata": {},
   "outputs": [],
   "source": [
    "X_train, X_test = basic_preprocessing(change_words(X_train, dict_change)), basic_preprocessing(change_words(X_test, dict_change))"
   ]
  },
  {
   "cell_type": "code",
   "execution_count": 13,
   "metadata": {},
   "outputs": [],
   "source": [
    "preprocessed_data = [('Basic', X_train, X_test),('& Lematizer', lemmatizer(X_train),lemmatizer(X_test))]"
   ]
  },
  {
   "cell_type": "markdown",
   "metadata": {},
   "source": [
    "### Treinamento básico"
   ]
  },
  {
   "cell_type": "code",
   "execution_count": 14,
   "metadata": {},
   "outputs": [],
   "source": [
    "from nlp_training import simple_training\n",
    "from config import MODELS, METHODS, METRICS"
   ]
  },
  {
   "cell_type": "code",
   "execution_count": 15,
   "metadata": {},
   "outputs": [],
   "source": [
    "dataframe = pd.DataFrame({})\n",
    "for method in METHODS:\n",
    "    for name, X_train, X_test in preprocessed_data: \n",
    "        aux = simple_training(X_train, y_train, X_test, y_test, MODELS, METRICS, method)\n",
    "        aux['Preprocessing'] = name\n",
    "        aux['Method'] = method\n",
    "        dataframe = pd.concat([dataframe, aux], ignore_index=True)"
   ]
  },
  {
   "cell_type": "code",
   "execution_count": 16,
   "metadata": {},
   "outputs": [
    {
     "data": {
      "text/html": [
       "<div>\n",
       "<style scoped>\n",
       "    .dataframe tbody tr th:only-of-type {\n",
       "        vertical-align: middle;\n",
       "    }\n",
       "\n",
       "    .dataframe tbody tr th {\n",
       "        vertical-align: top;\n",
       "    }\n",
       "\n",
       "    .dataframe thead th {\n",
       "        text-align: right;\n",
       "    }\n",
       "</style>\n",
       "<table border=\"1\" class=\"dataframe\">\n",
       "  <thead>\n",
       "    <tr style=\"text-align: right;\">\n",
       "      <th></th>\n",
       "      <th>Model</th>\n",
       "      <th>accuracy_score</th>\n",
       "      <th>f1_score</th>\n",
       "      <th>precision_score</th>\n",
       "      <th>Preprocessing</th>\n",
       "      <th>Method</th>\n",
       "    </tr>\n",
       "  </thead>\n",
       "  <tbody>\n",
       "    <tr>\n",
       "      <th>5</th>\n",
       "      <td>MLP_2_layer</td>\n",
       "      <td>0.857576</td>\n",
       "      <td>0.908382</td>\n",
       "      <td>0.892720</td>\n",
       "      <td>Basic</td>\n",
       "      <td>TfidfVectorizer()</td>\n",
       "    </tr>\n",
       "    <tr>\n",
       "      <th>4</th>\n",
       "      <td>MLP_1_layer</td>\n",
       "      <td>0.856061</td>\n",
       "      <td>0.907856</td>\n",
       "      <td>0.888046</td>\n",
       "      <td>Basic</td>\n",
       "      <td>TfidfVectorizer()</td>\n",
       "    </tr>\n",
       "    <tr>\n",
       "      <th>16</th>\n",
       "      <td>MLP_1_layer</td>\n",
       "      <td>0.856061</td>\n",
       "      <td>0.908035</td>\n",
       "      <td>0.886578</td>\n",
       "      <td>&amp; Lematizer</td>\n",
       "      <td>TfidfVectorizer()</td>\n",
       "    </tr>\n",
       "    <tr>\n",
       "      <th>17</th>\n",
       "      <td>MLP_2_layer</td>\n",
       "      <td>0.854545</td>\n",
       "      <td>0.906433</td>\n",
       "      <td>0.890805</td>\n",
       "      <td>&amp; Lematizer</td>\n",
       "      <td>TfidfVectorizer()</td>\n",
       "    </tr>\n",
       "    <tr>\n",
       "      <th>40</th>\n",
       "      <td>MLP_1_layer</td>\n",
       "      <td>0.845455</td>\n",
       "      <td>0.901544</td>\n",
       "      <td>0.877820</td>\n",
       "      <td>&amp; Lematizer</td>\n",
       "      <td>CountVectorizer()</td>\n",
       "    </tr>\n",
       "  </tbody>\n",
       "</table>\n",
       "</div>"
      ],
      "text/plain": [
       "          Model  accuracy_score  f1_score  precision_score Preprocessing  \\\n",
       "5   MLP_2_layer        0.857576  0.908382         0.892720         Basic   \n",
       "4   MLP_1_layer        0.856061  0.907856         0.888046         Basic   \n",
       "16  MLP_1_layer        0.856061  0.908035         0.886578   & Lematizer   \n",
       "17  MLP_2_layer        0.854545  0.906433         0.890805   & Lematizer   \n",
       "40  MLP_1_layer        0.845455  0.901544         0.877820   & Lematizer   \n",
       "\n",
       "               Method  \n",
       "5   TfidfVectorizer()  \n",
       "4   TfidfVectorizer()  \n",
       "16  TfidfVectorizer()  \n",
       "17  TfidfVectorizer()  \n",
       "40  CountVectorizer()  "
      ]
     },
     "execution_count": 16,
     "metadata": {},
     "output_type": "execute_result"
    }
   ],
   "source": [
    "dataframe.sort_values(by=['accuracy_score'], ascending=[False]).head()"
   ]
  },
  {
   "cell_type": "code",
   "execution_count": 17,
   "metadata": {},
   "outputs": [
    {
     "data": {
      "image/png": "[encoded data removed]",
      "text/plain": [
       "<Figure size 816.375x360 with 2 Axes>"
      ]
     },
     "metadata": {
      "needs_background": "light"
     },
     "output_type": "display_data"
    }
   ],
   "source": [
    "plot = sb.catplot(x='Model', y='accuracy_score', hue='Preprocessing', col='Method',data=dataframe, kind='bar')\n",
    "plt.ylim(0.6)\n",
    "for ax in plot.axes.flat:\n",
    "    _ = ax.set_xticklabels(ax.get_xticklabels(), rotation=60)\n"
   ]
  },
  {
   "cell_type": "markdown",
   "metadata": {},
   "source": [
    "### Primeira análise\n"
   ]
  },
  {
   "cell_type": "markdown",
   "metadata": {},
   "source": [
    "Lematização se saiu melhor durante a classificação, utilizarei somente ela"
   ]
  },
  {
   "cell_type": "markdown",
   "metadata": {},
   "source": [
    "### Treino avançado"
   ]
  },
  {
   "cell_type": "code",
   "execution_count": 18,
   "metadata": {},
   "outputs": [],
   "source": [
    "from models import Models\n",
    "import random\n",
    "from nlp_training import full_training\n",
    "from sklearn.feature_extraction.text import TfidfVectorizer, CountVectorizer"
   ]
  },
  {
   "cell_type": "markdown",
   "metadata": {},
   "source": [
    "Selecionando os 3 melhores classificadores. O Multinomial bayes não entra na lista devido não ter variação de parametros"
   ]
  },
  {
   "cell_type": "code",
   "execution_count": 41,
   "metadata": {},
   "outputs": [],
   "source": [
    "models = {\n",
    "    Models.MLP_2_layer.name: Models.MLP_2_layer.value,\n",
    "    #Models.SVC_LINEAR.name: Models.SVC_LINEAR.value,\n",
    "    #Models.LOGISTIC_REGRESSION.name: Models.LOGISTIC_REGRESSION.value,\n",
    "}"
   ]
  },
  {
   "cell_type": "code",
   "execution_count": 20,
   "metadata": {},
   "outputs": [],
   "source": [
    "C = [2 ** i for i in range(-5, 16,2)]\n",
    "gamma = [2 ** i for i in range(-15, 4,2)]\n",
    "gamma += ['auto','scale']"
   ]
  },
  {
   "cell_type": "code",
   "execution_count": 42,
   "metadata": {},
   "outputs": [],
   "source": [
    "params = {\n",
    "    Models.MLP_2_layer.name: {\n",
    "        'clf__hidden_layer_sizes': [(random.randrange(0, 500), random.randrange(0, 500)) for i in range(1000)],\n",
    "        'clf__tol':[0.001, 0.0005, 0.0001],\n",
    "        'clf__learning_rate':['constant', 'invscaling','adaptive'],\n",
    "        'clf__max_iter':[1000]\n",
    "    },\n",
    "    Models.SVC_LINEAR.name: {\n",
    "        'clf__C':C,\n",
    "    },\n",
    "    Models.LOGISTIC_REGRESSION.name: {\n",
    "        'clf__penalty':['l2', 'none'], \n",
    "        'clf__solver':['lbfgs','newton-cg','sag', 'saga'],\n",
    "        'clf__max_iter':[10000]\n",
    "    },\n",
    "}"
   ]
  },
  {
   "cell_type": "code",
   "execution_count": 33,
   "metadata": {},
   "outputs": [],
   "source": [
    "X_train, X_test = preprocessed_data[1][1], preprocessed_data[1][2]"
   ]
  },
  {
   "cell_type": "code",
   "execution_count": 43,
   "metadata": {},
   "outputs": [],
   "source": [
    "dataframe = full_training(X_train, y_train, X_test, y_test, models, params, METRICS ,TfidfVectorizer(), n_iter=10)"
   ]
  },
  {
   "cell_type": "code",
   "execution_count": 44,
   "metadata": {},
   "outputs": [
    {
     "data": {
      "text/html": [
       "<div>\n",
       "<style scoped>\n",
       "    .dataframe tbody tr th:only-of-type {\n",
       "        vertical-align: middle;\n",
       "    }\n",
       "\n",
       "    .dataframe tbody tr th {\n",
       "        vertical-align: top;\n",
       "    }\n",
       "\n",
       "    .dataframe thead th {\n",
       "        text-align: right;\n",
       "    }\n",
       "</style>\n",
       "<table border=\"1\" class=\"dataframe\">\n",
       "  <thead>\n",
       "    <tr style=\"text-align: right;\">\n",
       "      <th></th>\n",
       "      <th>Model</th>\n",
       "      <th>Params</th>\n",
       "      <th>accuracy_score</th>\n",
       "      <th>f1_score</th>\n",
       "      <th>precision_score</th>\n",
       "    </tr>\n",
       "  </thead>\n",
       "  <tbody>\n",
       "    <tr>\n",
       "      <th>0</th>\n",
       "      <td>MLP_2_layer</td>\n",
       "      <td>{'clf__tol': 0.001, 'clf__max_iter': 1000, 'cl...</td>\n",
       "      <td>0.854545</td>\n",
       "      <td>0.906067</td>\n",
       "      <td>0.893822</td>\n",
       "    </tr>\n",
       "  </tbody>\n",
       "</table>\n",
       "</div>"
      ],
      "text/plain": [
       "         Model                                             Params  \\\n",
       "0  MLP_2_layer  {'clf__tol': 0.001, 'clf__max_iter': 1000, 'cl...   \n",
       "\n",
       "   accuracy_score  f1_score  precision_score  \n",
       "0        0.854545  0.906067         0.893822  "
      ]
     },
     "execution_count": 44,
     "metadata": {},
     "output_type": "execute_result"
    }
   ],
   "source": [
    "dataframe.sort_values(by=['accuracy_score'], ascending=[False]).head()"
   ]
  },
  {
   "cell_type": "code",
   "execution_count": 36,
   "metadata": {},
   "outputs": [
    {
     "data": {
      "text/plain": [
       "<AxesSubplot:xlabel='Model', ylabel='accuracy_score'>"
      ]
     },
     "execution_count": 36,
     "metadata": {},
     "output_type": "execute_result"
    },
    {
     "data": {
      "image/png": "[encoded data removed]",
      "text/plain": [
       "<Figure size 432x288 with 1 Axes>"
      ]
     },
     "metadata": {
      "needs_background": "light"
     },
     "output_type": "display_data"
    }
   ],
   "source": [
    "sb.barplot(y='accuracy_score', x = 'Model', data=dataframe)"
   ]
  },
  {
   "cell_type": "markdown",
   "metadata": {},
   "source": [
    "### Final training"
   ]
  },
  {
   "cell_type": "code",
   "execution_count": 37,
   "metadata": {},
   "outputs": [],
   "source": [
    "from nlp_training import final_training\n",
    "from sklearn.metrics import accuracy_score"
   ]
  },
  {
   "cell_type": "code",
   "execution_count": 38,
   "metadata": {},
   "outputs": [],
   "source": [
    "model = Models.BAYES_MULTINOMIAL.value\n",
    "params = {\n",
    "    \"vectorizer__max_df\": (0.5, 0.75, 1.0),\n",
    "    'vectorizer__min_df': (1, 0.001, 0.0001),\n",
    "    'vectorizer__max_features': (None, 5000, 10000, 50000),\n",
    "    \"vectorizer__ngram_range\": ((1, 1), (1, 2)),\n",
    "}"
   ]
  },
  {
   "cell_type": "code",
   "execution_count": 39,
   "metadata": {},
   "outputs": [],
   "source": [
    "dataframe = final_training(X_train, y_train, X_test, y_test, model, params, [accuracy_score], CountVectorizer())"
   ]
  },
  {
   "cell_type": "code",
   "execution_count": 40,
   "metadata": {},
   "outputs": [
    {
     "data": {
      "text/plain": [
       "{'accuracy_score': 0.853030303030303,\n",
       " 'Params': Pipeline(steps=[('vectorizer', CountVectorizer(max_df=0.5, ngram_range=(1, 2))),\n",
       "                 ('clf', MultinomialNB())]),\n",
       " 'Estimator': Pipeline(steps=[('vectorizer', CountVectorizer(max_df=0.5, ngram_range=(1, 2))),\n",
       "                 ('clf', MultinomialNB())])}"
      ]
     },
     "execution_count": 40,
     "metadata": {},
     "output_type": "execute_result"
    }
   ],
   "source": [
    "dataframe"
   ]
  }
 ],
 "metadata": {
  "interpreter": {
   "hash": "ecc69c7694d03f005ee6c0e6c9a247632233d80e197d705bb7164757d21e4370"
  },
  "kernelspec": {
   "display_name": "Python 3.8.8 64-bit ('base': conda)",
   "language": "python",
   "name": "python3"
  },
  "language_info": {
   "codemirror_mode": {
    "name": "ipython",
    "version": 3
   },
   "file_extension": ".py",
   "mimetype": "text/x-python",
   "name": "python",
   "nbconvert_exporter": "python",
   "pygments_lexer": "ipython3",
   "version": "3.9.7"
  },
  "orig_nbformat": 4
 },
 "nbformat": 4,
 "nbformat_minor": 2
}
