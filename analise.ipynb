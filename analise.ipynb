{
 "cells": [
  {
   "cell_type": "code",
   "execution_count": 1,
   "metadata": {},
   "outputs": [],
   "source": [
    "import pandas as pd\n",
    "import numpy as np\n",
    "import seaborn as sb\n",
    "import matplotlib.pyplot as plt"
   ]
  },
  {
   "cell_type": "markdown",
   "metadata": {},
   "source": [
    "### Read dataframe"
   ]
  },
  {
   "cell_type": "code",
   "execution_count": 2,
   "metadata": {},
   "outputs": [],
   "source": [
    "from config import DF_TRAIN"
   ]
  },
  {
   "cell_type": "code",
   "execution_count": 3,
   "metadata": {},
   "outputs": [],
   "source": [
    "df = pd.read_csv(DF_TRAIN)"
   ]
  },
  {
   "cell_type": "markdown",
   "metadata": {},
   "source": [
    "### Dataset anaslysis"
   ]
  },
  {
   "cell_type": "code",
   "execution_count": 4,
   "metadata": {},
   "outputs": [
    {
     "data": {
      "text/html": [
       "<div>\n",
       "<style scoped>\n",
       "    .dataframe tbody tr th:only-of-type {\n",
       "        vertical-align: middle;\n",
       "    }\n",
       "\n",
       "    .dataframe tbody tr th {\n",
       "        vertical-align: top;\n",
       "    }\n",
       "\n",
       "    .dataframe thead th {\n",
       "        text-align: right;\n",
       "    }\n",
       "</style>\n",
       "<table border=\"1\" class=\"dataframe\">\n",
       "  <thead>\n",
       "    <tr style=\"text-align: right;\">\n",
       "      <th></th>\n",
       "      <th>id</th>\n",
       "      <th>comment_text</th>\n",
       "      <th>Toxic</th>\n",
       "    </tr>\n",
       "  </thead>\n",
       "  <tbody>\n",
       "    <tr>\n",
       "      <th>0</th>\n",
       "      <td>0028d62e8a5629aa</td>\n",
       "      <td>All of my edits are good.  Cunts like you who ...</td>\n",
       "      <td>Toxic</td>\n",
       "    </tr>\n",
       "    <tr>\n",
       "      <th>1</th>\n",
       "      <td>006e87872c8b370c</td>\n",
       "      <td>you are a stupid fuck \\n\\nand your mother's cu...</td>\n",
       "      <td>Toxic</td>\n",
       "    </tr>\n",
       "    <tr>\n",
       "      <th>2</th>\n",
       "      <td>00b77cb600c897b4</td>\n",
       "      <td>\"\\n\\nAnd you are? Let me know when you've craw...</td>\n",
       "      <td>Toxic</td>\n",
       "    </tr>\n",
       "    <tr>\n",
       "      <th>3</th>\n",
       "      <td>00c0b8ed05ed7833</td>\n",
       "      <td>Fuck off\\n\\nYou are NOT an administrator. You ...</td>\n",
       "      <td>Toxic</td>\n",
       "    </tr>\n",
       "    <tr>\n",
       "      <th>4</th>\n",
       "      <td>00d7a73eb033ee5e</td>\n",
       "      <td>Have you seen the reference to their claim, yo...</td>\n",
       "      <td>Toxic</td>\n",
       "    </tr>\n",
       "    <tr>\n",
       "      <th>5</th>\n",
       "      <td>011d0c0a6c8e5765</td>\n",
       "      <td>I NEVER FUCKING MADE THIS MOTHER FUCKING ARTIC...</td>\n",
       "      <td>Toxic</td>\n",
       "    </tr>\n",
       "    <tr>\n",
       "      <th>6</th>\n",
       "      <td>0122aba9f97885cd</td>\n",
       "      <td>There are many broken nostrils in this pancreas</td>\n",
       "      <td>Non-Toxic</td>\n",
       "    </tr>\n",
       "    <tr>\n",
       "      <th>7</th>\n",
       "      <td>016aa1af4fa90e8b</td>\n",
       "      <td>\"\\n\\nElvis... Crying in the Chapel  Feudalist  \"</td>\n",
       "      <td>Non-Toxic</td>\n",
       "    </tr>\n",
       "    <tr>\n",
       "      <th>8</th>\n",
       "      <td>019ab9a91e7fcdbe</td>\n",
       "      <td>Are you fucker mother fucker have nothing to d...</td>\n",
       "      <td>Toxic</td>\n",
       "    </tr>\n",
       "    <tr>\n",
       "      <th>9</th>\n",
       "      <td>01ce75675a501e50</td>\n",
       "      <td>\"\\\\nYou wasted your own time! Take this advice...</td>\n",
       "      <td>Toxic</td>\n",
       "    </tr>\n",
       "  </tbody>\n",
       "</table>\n",
       "</div>"
      ],
      "text/plain": [
       "                 id                                       comment_text  \\\n",
       "0  0028d62e8a5629aa  All of my edits are good.  Cunts like you who ...   \n",
       "1  006e87872c8b370c  you are a stupid fuck \\n\\nand your mother's cu...   \n",
       "2  00b77cb600c897b4  \"\\n\\nAnd you are? Let me know when you've craw...   \n",
       "3  00c0b8ed05ed7833  Fuck off\\n\\nYou are NOT an administrator. You ...   \n",
       "4  00d7a73eb033ee5e  Have you seen the reference to their claim, yo...   \n",
       "5  011d0c0a6c8e5765  I NEVER FUCKING MADE THIS MOTHER FUCKING ARTIC...   \n",
       "6  0122aba9f97885cd    There are many broken nostrils in this pancreas   \n",
       "7  016aa1af4fa90e8b   \"\\n\\nElvis... Crying in the Chapel  Feudalist  \"   \n",
       "8  019ab9a91e7fcdbe  Are you fucker mother fucker have nothing to d...   \n",
       "9  01ce75675a501e50  \"\\\\nYou wasted your own time! Take this advice...   \n",
       "\n",
       "       Toxic  \n",
       "0      Toxic  \n",
       "1      Toxic  \n",
       "2      Toxic  \n",
       "3      Toxic  \n",
       "4      Toxic  \n",
       "5      Toxic  \n",
       "6  Non-Toxic  \n",
       "7  Non-Toxic  \n",
       "8      Toxic  \n",
       "9      Toxic  "
      ]
     },
     "execution_count": 4,
     "metadata": {},
     "output_type": "execute_result"
    }
   ],
   "source": [
    "df.head(10)"
   ]
  },
  {
   "cell_type": "code",
   "execution_count": 5,
   "metadata": {},
   "outputs": [
    {
     "data": {
      "text/html": [
       "<div>\n",
       "<style scoped>\n",
       "    .dataframe tbody tr th:only-of-type {\n",
       "        vertical-align: middle;\n",
       "    }\n",
       "\n",
       "    .dataframe tbody tr th {\n",
       "        vertical-align: top;\n",
       "    }\n",
       "\n",
       "    .dataframe thead th {\n",
       "        text-align: right;\n",
       "    }\n",
       "</style>\n",
       "<table border=\"1\" class=\"dataframe\">\n",
       "  <thead>\n",
       "    <tr style=\"text-align: right;\">\n",
       "      <th></th>\n",
       "      <th>id</th>\n",
       "      <th>comment_text</th>\n",
       "      <th>Toxic</th>\n",
       "    </tr>\n",
       "  </thead>\n",
       "  <tbody>\n",
       "    <tr>\n",
       "      <th>count</th>\n",
       "      <td>2000</td>\n",
       "      <td>2000</td>\n",
       "      <td>2000</td>\n",
       "    </tr>\n",
       "    <tr>\n",
       "      <th>unique</th>\n",
       "      <td>2000</td>\n",
       "      <td>2000</td>\n",
       "      <td>2</td>\n",
       "    </tr>\n",
       "    <tr>\n",
       "      <th>top</th>\n",
       "      <td>0028d62e8a5629aa</td>\n",
       "      <td>All of my edits are good.  Cunts like you who ...</td>\n",
       "      <td>Toxic</td>\n",
       "    </tr>\n",
       "    <tr>\n",
       "      <th>freq</th>\n",
       "      <td>1</td>\n",
       "      <td>1</td>\n",
       "      <td>1500</td>\n",
       "    </tr>\n",
       "  </tbody>\n",
       "</table>\n",
       "</div>"
      ],
      "text/plain": [
       "                      id                                       comment_text  \\\n",
       "count               2000                                               2000   \n",
       "unique              2000                                               2000   \n",
       "top     0028d62e8a5629aa  All of my edits are good.  Cunts like you who ...   \n",
       "freq                   1                                                  1   \n",
       "\n",
       "        Toxic  \n",
       "count    2000  \n",
       "unique      2  \n",
       "top     Toxic  \n",
       "freq     1500  "
      ]
     },
     "execution_count": 5,
     "metadata": {},
     "output_type": "execute_result"
    }
   ],
   "source": [
    "df.describe()"
   ]
  },
  {
   "cell_type": "code",
   "execution_count": 6,
   "metadata": {},
   "outputs": [
    {
     "name": "stdout",
     "output_type": "stream",
     "text": [
      "Comment\n",
      "------------------------------\n",
      "\"\\\n",
      "You wasted your own time! Take this advice with you: Pull your head out of your ass! Be real and don't spend the rest of your life sucking ass. Have a nice life! Goodbye!  (mailbox) \"\n",
      "------------------------------\n",
      "Toxic\n"
     ]
    }
   ],
   "source": [
    "example = 9\n",
    "print('Comment')\n",
    "print('------------------------------')\n",
    "print(df['comment_text'][example])\n",
    "print('------------------------------')\n",
    "print(df['Toxic'][example])"
   ]
  },
  {
   "cell_type": "markdown",
   "metadata": {},
   "source": [
    "After analyzing the data, an X_CHANGE_WORDS constant was created in the config.py file referring to the words in the text that could be modified to improve the classifiers."
   ]
  },
  {
   "cell_type": "markdown",
   "metadata": {},
   "source": [
    "### Preprocessing"
   ]
  },
  {
   "cell_type": "code",
   "execution_count": 7,
   "metadata": {},
   "outputs": [
    {
     "name": "stderr",
     "output_type": "stream",
     "text": [
      "[nltk_data] Downloading package words to /home/geovane/nltk_data...\n",
      "[nltk_data]   Package words is already up-to-date!\n",
      "[nltk_data] Downloading package stopwords to\n",
      "[nltk_data]     /home/geovane/nltk_data...\n",
      "[nltk_data]   Package stopwords is already up-to-date!\n",
      "[nltk_data] Downloading package punkt to /home/geovane/nltk_data...\n",
      "[nltk_data]   Package punkt is already up-to-date!\n",
      "[nltk_data] Downloading package wordnet to /home/geovane/nltk_data...\n",
      "[nltk_data]   Package wordnet is already up-to-date!\n"
     ]
    }
   ],
   "source": [
    "from nlp_preprocessing import basic_preprocessing, lemmatizer, change_words, y_encoder\n",
    "from sklearn.model_selection import train_test_split\n",
    "from config import Y_CHANGE_WORDS, X_CHANGE_WORDS"
   ]
  },
  {
   "cell_type": "markdown",
   "metadata": {},
   "source": [
    "All the functions of the nlp_training, nlp_preprocessing and ml_training files are mine"
   ]
  },
  {
   "cell_type": "code",
   "execution_count": 8,
   "metadata": {},
   "outputs": [],
   "source": [
    "X_train, X_test, y_train, y_test = train_test_split(df['comment_text'], df['Toxic'], test_size=0.33, shuffle=True)"
   ]
  },
  {
   "cell_type": "code",
   "execution_count": 9,
   "metadata": {},
   "outputs": [],
   "source": [
    "y_train, y_test = y_encoder(y_train, Y_CHANGE_WORDS), y_encoder(y_test, Y_CHANGE_WORDS)"
   ]
  },
  {
   "cell_type": "markdown",
   "metadata": {},
   "source": [
    "This Y_CHANGE_WORDS constant defined in config.py is intended to standardize the transformation of categorical data into numeric data."
   ]
  },
  {
   "cell_type": "code",
   "execution_count": 10,
   "metadata": {},
   "outputs": [],
   "source": [
    "X_train, X_test = basic_preprocessing(change_words(X_train, X_CHANGE_WORDS)), basic_preprocessing(change_words(X_test, X_CHANGE_WORDS))"
   ]
  },
  {
   "cell_type": "code",
   "execution_count": 11,
   "metadata": {},
   "outputs": [],
   "source": [
    "preprocessed_data = [('Basic', X_train, X_test),('& Lematizer', lemmatizer(X_train),lemmatizer(X_test))]"
   ]
  },
  {
   "cell_type": "markdown",
   "metadata": {},
   "source": [
    "This array is defined in order to test classifiers with different processing steps"
   ]
  },
  {
   "cell_type": "markdown",
   "metadata": {},
   "source": [
    "### Basic training"
   ]
  },
  {
   "cell_type": "code",
   "execution_count": 12,
   "metadata": {},
   "outputs": [],
   "source": [
    "from nlp_training import simple_training\n",
    "from config import MODELS, METHODS, METRICS"
   ]
  },
  {
   "cell_type": "code",
   "execution_count": 13,
   "metadata": {},
   "outputs": [],
   "source": [
    "dataframe = pd.DataFrame({})\n",
    "for method in METHODS:\n",
    "    for name, X_train, X_test in preprocessed_data: \n",
    "        aux = simple_training(X_train, y_train, X_test, y_test, MODELS, METRICS, method)\n",
    "        aux['Preprocessing'] = name\n",
    "        aux['Method'] = method\n",
    "        dataframe = pd.concat([dataframe, aux], ignore_index=True)"
   ]
  },
  {
   "cell_type": "code",
   "execution_count": 14,
   "metadata": {},
   "outputs": [
    {
     "data": {
      "text/html": [
       "<div>\n",
       "<style scoped>\n",
       "    .dataframe tbody tr th:only-of-type {\n",
       "        vertical-align: middle;\n",
       "    }\n",
       "\n",
       "    .dataframe tbody tr th {\n",
       "        vertical-align: top;\n",
       "    }\n",
       "\n",
       "    .dataframe thead th {\n",
       "        text-align: right;\n",
       "    }\n",
       "</style>\n",
       "<table border=\"1\" class=\"dataframe\">\n",
       "  <thead>\n",
       "    <tr style=\"text-align: right;\">\n",
       "      <th></th>\n",
       "      <th>Model</th>\n",
       "      <th>accuracy_score</th>\n",
       "      <th>f1_score</th>\n",
       "      <th>precision_score</th>\n",
       "      <th>Preprocessing</th>\n",
       "      <th>Method</th>\n",
       "    </tr>\n",
       "  </thead>\n",
       "  <tbody>\n",
       "    <tr>\n",
       "      <th>16</th>\n",
       "      <td>MLP_2_layer</td>\n",
       "      <td>0.846970</td>\n",
       "      <td>0.901846</td>\n",
       "      <td>0.862454</td>\n",
       "      <td>&amp; Lematizer</td>\n",
       "      <td>TfidfVectorizer()</td>\n",
       "    </tr>\n",
       "    <tr>\n",
       "      <th>38</th>\n",
       "      <td>MLP_2_layer</td>\n",
       "      <td>0.845455</td>\n",
       "      <td>0.899010</td>\n",
       "      <td>0.874759</td>\n",
       "      <td>&amp; Lematizer</td>\n",
       "      <td>CountVectorizer()</td>\n",
       "    </tr>\n",
       "    <tr>\n",
       "      <th>27</th>\n",
       "      <td>MLP_2_layer</td>\n",
       "      <td>0.845455</td>\n",
       "      <td>0.897590</td>\n",
       "      <td>0.885149</td>\n",
       "      <td>Basic</td>\n",
       "      <td>CountVectorizer()</td>\n",
       "    </tr>\n",
       "    <tr>\n",
       "      <th>5</th>\n",
       "      <td>MLP_2_layer</td>\n",
       "      <td>0.840909</td>\n",
       "      <td>0.897160</td>\n",
       "      <td>0.864151</td>\n",
       "      <td>Basic</td>\n",
       "      <td>TfidfVectorizer()</td>\n",
       "    </tr>\n",
       "    <tr>\n",
       "      <th>4</th>\n",
       "      <td>MLP_1_layer</td>\n",
       "      <td>0.839394</td>\n",
       "      <td>0.896078</td>\n",
       "      <td>0.863894</td>\n",
       "      <td>Basic</td>\n",
       "      <td>TfidfVectorizer()</td>\n",
       "    </tr>\n",
       "  </tbody>\n",
       "</table>\n",
       "</div>"
      ],
      "text/plain": [
       "          Model  accuracy_score  f1_score  precision_score Preprocessing  \\\n",
       "16  MLP_2_layer        0.846970  0.901846         0.862454   & Lematizer   \n",
       "38  MLP_2_layer        0.845455  0.899010         0.874759   & Lematizer   \n",
       "27  MLP_2_layer        0.845455  0.897590         0.885149         Basic   \n",
       "5   MLP_2_layer        0.840909  0.897160         0.864151         Basic   \n",
       "4   MLP_1_layer        0.839394  0.896078         0.863894         Basic   \n",
       "\n",
       "               Method  \n",
       "16  TfidfVectorizer()  \n",
       "38  CountVectorizer()  \n",
       "27  CountVectorizer()  \n",
       "5   TfidfVectorizer()  \n",
       "4   TfidfVectorizer()  "
      ]
     },
     "execution_count": 14,
     "metadata": {},
     "output_type": "execute_result"
    }
   ],
   "source": [
    "dataframe.sort_values(by=['accuracy_score'], ascending=[False]).head()"
   ]
  },
  {
   "cell_type": "code",
   "execution_count": 15,
   "metadata": {},
   "outputs": [
    {
     "data": {
      "image/png": "[encoded data removed]",
      "text/plain": [
       "<Figure size 816.375x360 with 2 Axes>"
      ]
     },
     "metadata": {
      "needs_background": "light"
     },
     "output_type": "display_data"
    }
   ],
   "source": [
    "plot = sb.catplot(x='Model', y='accuracy_score', hue='Preprocessing', col='Method',data=dataframe, kind='bar')\n",
    "plt.ylim(0.6)\n",
    "for ax in plot.axes.flat:\n",
    "    _ = ax.set_xticklabels(ax.get_xticklabels(), rotation=60)\n"
   ]
  },
  {
   "cell_type": "markdown",
   "metadata": {},
   "source": [
    "### Advanced training"
   ]
  },
  {
   "cell_type": "code",
   "execution_count": 16,
   "metadata": {},
   "outputs": [],
   "source": [
    "from models import Models\n",
    "import random\n",
    "from nlp_training import full_training"
   ]
  },
  {
   "cell_type": "markdown",
   "metadata": {},
   "source": [
    "Selecting the top 3 classifiers. The multinomial bayes does not enter the list because it has no parameter variation."
   ]
  },
  {
   "cell_type": "code",
   "execution_count": 17,
   "metadata": {},
   "outputs": [],
   "source": [
    "models = {\n",
    "    Models.MLP_2_layer.name: Models.MLP_2_layer.value,\n",
    "    Models.SVC_LINEAR.name: Models.SVC_LINEAR.value,\n",
    "    Models.LOGISTIC_REGRESSION.name: Models.LOGISTIC_REGRESSION.value,\n",
    "}"
   ]
  },
  {
   "cell_type": "code",
   "execution_count": 18,
   "metadata": {},
   "outputs": [],
   "source": [
    "C = [2 ** i for i in range(-5, 16,2)]\n",
    "gamma = [2 ** i for i in range(-15, 4,2)]\n",
    "gamma += ['auto','scale']"
   ]
  },
  {
   "cell_type": "code",
   "execution_count": 19,
   "metadata": {},
   "outputs": [],
   "source": [
    "params = {\n",
    "    Models.MLP_2_layer.name: {\n",
    "        'clf__hidden_layer_sizes': [(random.randrange(0, 500), random.randrange(0, 500)) for i in range(1000)],\n",
    "        'clf__tol':[0.001, 0.0005, 0.0001],\n",
    "        'clf__learning_rate':['constant', 'invscaling','adaptive'],\n",
    "        'clf__max_iter':[1000]\n",
    "    },\n",
    "    Models.SVC_LINEAR.name: {\n",
    "        'clf__C':C,\n",
    "    },\n",
    "    Models.LOGISTIC_REGRESSION.name: {\n",
    "        'clf__penalty':['l2', 'none'], \n",
    "        'clf__solver':['lbfgs','newton-cg','sag', 'saga'],\n",
    "        'clf__max_iter':[10000]\n",
    "    },\n",
    "}"
   ]
  },
  {
   "cell_type": "code",
   "execution_count": 20,
   "metadata": {},
   "outputs": [],
   "source": [
    "X_train, X_test = preprocessed_data[1][1], preprocessed_data[1][2]"
   ]
  },
  {
   "cell_type": "code",
   "execution_count": 21,
   "metadata": {},
   "outputs": [
    {
     "name": "stderr",
     "output_type": "stream",
     "text": [
      "/home/geovane/anaconda3/lib/python3.9/site-packages/sklearn/model_selection/_search.py:285: UserWarning: The total space of parameters 8 is smaller than n_iter=10. Running 8 iterations. For exhaustive searches, use GridSearchCV.\n",
      "  warnings.warn(\n",
      "/home/geovane/anaconda3/lib/python3.9/site-packages/sklearn/model_selection/_search.py:285: UserWarning: The total space of parameters 8 is smaller than n_iter=10. Running 8 iterations. For exhaustive searches, use GridSearchCV.\n",
      "  warnings.warn(\n"
     ]
    }
   ],
   "source": [
    "dataframe = pd.DataFrame({})\n",
    "for method in METHODS:\n",
    "    aux = full_training(X_train, y_train, X_test, y_test, models, params, METRICS , method, n_iter=10)\n",
    "    aux['Method'] = method\n",
    "    dataframe = pd.concat([dataframe, aux], ignore_index=True)"
   ]
  },
  {
   "cell_type": "code",
   "execution_count": 22,
   "metadata": {},
   "outputs": [
    {
     "data": {
      "text/html": [
       "<div>\n",
       "<style scoped>\n",
       "    .dataframe tbody tr th:only-of-type {\n",
       "        vertical-align: middle;\n",
       "    }\n",
       "\n",
       "    .dataframe tbody tr th {\n",
       "        vertical-align: top;\n",
       "    }\n",
       "\n",
       "    .dataframe thead th {\n",
       "        text-align: right;\n",
       "    }\n",
       "</style>\n",
       "<table border=\"1\" class=\"dataframe\">\n",
       "  <thead>\n",
       "    <tr style=\"text-align: right;\">\n",
       "      <th></th>\n",
       "      <th>Model</th>\n",
       "      <th>Params</th>\n",
       "      <th>accuracy_score</th>\n",
       "      <th>f1_score</th>\n",
       "      <th>precision_score</th>\n",
       "      <th>Method</th>\n",
       "    </tr>\n",
       "  </thead>\n",
       "  <tbody>\n",
       "    <tr>\n",
       "      <th>2</th>\n",
       "      <td>LOGISTIC_REGRESSION</td>\n",
       "      <td>{'clf__solver': 'lbfgs', 'clf__penalty': 'none...</td>\n",
       "      <td>0.848485</td>\n",
       "      <td>0.901186</td>\n",
       "      <td>0.875240</td>\n",
       "      <td>TfidfVectorizer()</td>\n",
       "    </tr>\n",
       "    <tr>\n",
       "      <th>0</th>\n",
       "      <td>MLP_2_layer</td>\n",
       "      <td>{'clf__tol': 0.0005, 'clf__max_iter': 1000, 'c...</td>\n",
       "      <td>0.846970</td>\n",
       "      <td>0.899502</td>\n",
       "      <td>0.879377</td>\n",
       "      <td>TfidfVectorizer()</td>\n",
       "    </tr>\n",
       "    <tr>\n",
       "      <th>3</th>\n",
       "      <td>MLP_2_layer</td>\n",
       "      <td>{'clf__tol': 0.0001, 'clf__max_iter': 1000, 'c...</td>\n",
       "      <td>0.843939</td>\n",
       "      <td>0.895643</td>\n",
       "      <td>0.891129</td>\n",
       "      <td>CountVectorizer()</td>\n",
       "    </tr>\n",
       "    <tr>\n",
       "      <th>1</th>\n",
       "      <td>SVC_LINEAR</td>\n",
       "      <td>{'clf__C': 2}</td>\n",
       "      <td>0.839394</td>\n",
       "      <td>0.895874</td>\n",
       "      <td>0.865275</td>\n",
       "      <td>TfidfVectorizer()</td>\n",
       "    </tr>\n",
       "    <tr>\n",
       "      <th>5</th>\n",
       "      <td>LOGISTIC_REGRESSION</td>\n",
       "      <td>{'clf__solver': 'sag', 'clf__penalty': 'l2', '...</td>\n",
       "      <td>0.837879</td>\n",
       "      <td>0.896016</td>\n",
       "      <td>0.856877</td>\n",
       "      <td>CountVectorizer()</td>\n",
       "    </tr>\n",
       "  </tbody>\n",
       "</table>\n",
       "</div>"
      ],
      "text/plain": [
       "                 Model                                             Params  \\\n",
       "2  LOGISTIC_REGRESSION  {'clf__solver': 'lbfgs', 'clf__penalty': 'none...   \n",
       "0          MLP_2_layer  {'clf__tol': 0.0005, 'clf__max_iter': 1000, 'c...   \n",
       "3          MLP_2_layer  {'clf__tol': 0.0001, 'clf__max_iter': 1000, 'c...   \n",
       "1           SVC_LINEAR                                      {'clf__C': 2}   \n",
       "5  LOGISTIC_REGRESSION  {'clf__solver': 'sag', 'clf__penalty': 'l2', '...   \n",
       "\n",
       "   accuracy_score  f1_score  precision_score             Method  \n",
       "2        0.848485  0.901186         0.875240  TfidfVectorizer()  \n",
       "0        0.846970  0.899502         0.879377  TfidfVectorizer()  \n",
       "3        0.843939  0.895643         0.891129  CountVectorizer()  \n",
       "1        0.839394  0.895874         0.865275  TfidfVectorizer()  \n",
       "5        0.837879  0.896016         0.856877  CountVectorizer()  "
      ]
     },
     "execution_count": 22,
     "metadata": {},
     "output_type": "execute_result"
    }
   ],
   "source": [
    "dataframe.sort_values(by=['accuracy_score'], ascending=[False]).head()"
   ]
  },
  {
   "cell_type": "code",
   "execution_count": 23,
   "metadata": {},
   "outputs": [
    {
     "data": {
      "text/plain": [
       "(0.7, 0.890909090909091)"
      ]
     },
     "execution_count": 23,
     "metadata": {},
     "output_type": "execute_result"
    },
    {
     "data": {
      "image/png": "[encoded data removed]",
      "text/plain": [
       "<Figure size 432x288 with 1 Axes>"
      ]
     },
     "metadata": {
      "needs_background": "light"
     },
     "output_type": "display_data"
    }
   ],
   "source": [
    "sb.barplot(y='accuracy_score', x = 'Model', hue='Method', data=dataframe)\n",
    "plt.ylim(0.7)"
   ]
  },
  {
   "cell_type": "markdown",
   "metadata": {},
   "source": [
    "### Final training"
   ]
  },
  {
   "cell_type": "code",
   "execution_count": 29,
   "metadata": {},
   "outputs": [],
   "source": [
    "from nlp_training import final_training\n",
    "from sklearn.metrics import accuracy_score\n",
    "from random import randint\n",
    "from sklearn.feature_extraction.text import TfidfVectorizer"
   ]
  },
  {
   "cell_type": "code",
   "execution_count": 32,
   "metadata": {},
   "outputs": [],
   "source": [
    "model = Models.MLP_2_layer.value\n",
    "params = {\n",
    "    'clf__hidden_layer_sizes':((randint(0, 500), randint(0, 500)), (randint(500, 1000),randint(500, 1000))),\n",
    "    'clf__learning_rate':['constant', 'invscaling','adaptive'],\n",
    "    'clf__max_iter':[1000],\n",
    "    \"vectorizer__max_df\": (0.5, 1.0),\n",
    "    \"vectorizer__ngram_range\": ((1, 1), (1, 2)),\n",
    "}"
   ]
  },
  {
   "cell_type": "code",
   "execution_count": 33,
   "metadata": {},
   "outputs": [],
   "source": [
    "dataframe = final_training(X_train, y_train, X_test, y_test, model, params, [accuracy_score], TfidfVectorizer())"
   ]
  },
  {
   "cell_type": "code",
   "execution_count": 34,
   "metadata": {},
   "outputs": [
    {
     "data": {
      "text/plain": [
       "{'accuracy_score': 0.8469696969696969,\n",
       " 'Params': Pipeline(steps=[('vectorizer', TfidfVectorizer()),\n",
       "                 ('clf',\n",
       "                  MLPClassifier(hidden_layer_sizes=(275, 470),\n",
       "                                learning_rate='adaptive', max_iter=1000))]),\n",
       " 'Estimator': Pipeline(steps=[('vectorizer', TfidfVectorizer()),\n",
       "                 ('clf',\n",
       "                  MLPClassifier(hidden_layer_sizes=(275, 470),\n",
       "                                learning_rate='adaptive', max_iter=1000))])}"
      ]
     },
     "execution_count": 34,
     "metadata": {},
     "output_type": "execute_result"
    }
   ],
   "source": [
    "dataframe"
   ]
  }
 ],
 "metadata": {
  "interpreter": {
   "hash": "ecc69c7694d03f005ee6c0e6c9a247632233d80e197d705bb7164757d21e4370"
  },
  "kernelspec": {
   "display_name": "Python 3.8.8 64-bit ('base': conda)",
   "language": "python",
   "name": "python3"
  },
  "language_info": {
   "codemirror_mode": {
    "name": "ipython",
    "version": 3
   },
   "file_extension": ".py",
   "mimetype": "text/x-python",
   "name": "python",
   "nbconvert_exporter": "python",
   "pygments_lexer": "ipython3",
   "version": "3.9.7"
  },
  "orig_nbformat": 4
 },
 "nbformat": 4,
 "nbformat_minor": 2
}
